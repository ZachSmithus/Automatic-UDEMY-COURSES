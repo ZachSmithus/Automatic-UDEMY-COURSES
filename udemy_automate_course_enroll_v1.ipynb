{
  "nbformat": 4,
  "nbformat_minor": 0,
  "metadata": {
    "colab": {
      "name": "udemy_automate_course_enroll_v1",
      "provenance": [],
      "collapsed_sections": [],
      "authorship_tag": "ABX9TyNbAuR4qK+njd9bpK8psVKj"
    },
    "kernelspec": {
      "name": "python3",
      "display_name": "Python 3"
    }
  },
  "cells": [
    {
      "cell_type": "markdown",
      "metadata": {
        "id": "9HTOMT4fTEyL",
        "colab_type": "text"
      },
      "source": [
        "# **Get Paid Udemy Courses for Free with this Python Script!**"
      ]
    },
    {
      "cell_type": "markdown",
      "metadata": {
        "id": "-9RgdGPEREBr",
        "colab_type": "text"
      },
      "source": [
        "## **Install the necessary dependencies before running the code**\n",
        "---\n",
        "\n",
        "\n",
        "Requests module for Python:\n",
        "> pip install requests\n",
        "\n",
        "BeautifulSoup Web-Scraping Library for Python:\n",
        "> pip install pip install beautifulsoup4\n",
        "\n",
        "Selenium Browser Automation Tool  for Python:\n",
        "> pip install selenium\n",
        "\n",
        "Required Python version:\n",
        "> Python 3.8\n",
        "\n",
        "A webdriver for the browser of your choice:\n",
        ">[Edge](https://developer.microsoft.com/en-us/microsoft-edge/tools/webdriver/), [Chrome](https://chromedriver.chromium.org/), [Firefox](https://github.com/mozilla/geckodriver/releases), etc. (Make sure that the driver version matches your browser)"
      ]
    },
    {
      "cell_type": "code",
      "metadata": {
        "id": "ApjFsUCMNeLI",
        "colab_type": "code",
        "colab": {}
      },
      "source": [
        "from bs4 import BeautifulSoup\n",
        "import requests\n",
        "from selenium import webdriver\n",
        "from selenium.common.exceptions import TimeoutException\n",
        "from selenium.webdriver.support.ui import WebDriverWait\n",
        "from selenium.webdriver.support import expected_conditions as EC\n",
        "from selenium.webdriver.common.by import By\n",
        "from selenium.common.exceptions import NoSuchElementException\n",
        "import time"
      ],
      "execution_count": null,
      "outputs": []
    },
    {
      "cell_type": "markdown",
      "metadata": {
        "id": "eI_wup7jOYBT",
        "colab_type": "text"
      },
      "source": [
        "### **Enter your Udemy Credentials below:**"
      ]
    },
    {
      "cell_type": "code",
      "metadata": {
        "id": "uIFE89SONj2J",
        "colab_type": "code",
        "colab": {}
      },
      "source": [
        "email=\"ENTER_YOUR_UDEMY_REGISTERED_EMAIL_ID_HERE\"\n",
        "password=\"ENTER_YOUR_UDEMY_PASSWORD_HERE\""
      ],
      "execution_count": null,
      "outputs": []
    },
    {
      "cell_type": "markdown",
      "metadata": {
        "id": "p2L8sTG5Ok4G",
        "colab_type": "text"
      },
      "source": [
        "### **Enter the path/location of your webdriver**\n",
        "By default, the webdriver for Microsoft Edge browser has been chosen in the code below.\n",
        "\n",
        "Also, enter the location of your webdriver.\n"
      ]
    },
    {
      "cell_type": "code",
      "metadata": {
        "id": "TeQyKk8QNwrs",
        "colab_type": "code",
        "colab": {}
      },
      "source": [
        "path = \"..location\\msedgedriver.exe\" #Enter this string with the path for your webdriver\n",
        "driver = webdriver.Edge(path)"
      ],
      "execution_count": null,
      "outputs": []
    },
    {
      "cell_type": "code",
      "metadata": {
        "id": "zexH4WoFPyup",
        "colab_type": "code",
        "colab": {}
      },
      "source": [
        "driver.maximize_window()  #Maximizes the browser window since Udemy has a responsive design and the code only works in the maximized layout"
      ],
      "execution_count": null,
      "outputs": []
    },
    {
      "cell_type": "code",
      "metadata": {
        "id": "JO1xjFVDN2Qk",
        "colab_type": "code",
        "colab": {}
      },
      "source": [
        "def getUdemyLink(url):\n",
        "    response = requests.get(\n",
        "    url = url\n",
        "    )\n",
        "\n",
        "    soup = BeautifulSoup(response.content,'html.parser')\n",
        "\n",
        "    linkForUdemy = soup.find('span', class_=\"rh_button_wrapper\").find('a').get('href')\n",
        "\n",
        "    return linkForUdemy"
      ],
      "execution_count": null,
      "outputs": []
    },
    {
      "cell_type": "code",
      "metadata": {
        "id": "nTrQNt59N7t7",
        "colab_type": "code",
        "colab": {}
      },
      "source": [
        "def getTutorialBarLinks(url):\n",
        "    response = requests.get(\n",
        "    url = url\n",
        "    )\n",
        "\n",
        "    soup = BeautifulSoup(response.content,'html.parser')\n",
        "\n",
        "\n",
        "    links = soup.find('div', class_=\"rh-post-wrapper\").find_all('a')\n",
        "    #print(links)\n",
        "\n",
        "    courses=[]\n",
        "\n",
        "    x=0\n",
        "    for i in range(12):\n",
        "        courses.append(links[x].get('href'))\n",
        "        x=x+3\n",
        "\n",
        "    return courses"
      ],
      "execution_count": null,
      "outputs": []
    },
    {
      "cell_type": "code",
      "metadata": {
        "id": "e-n0u0lrN8ev",
        "colab_type": "code",
        "colab": {}
      },
      "source": [
        "def udemyLogin(email_text,password_text):\n",
        "    \n",
        "    driver.get(\"https://www.udemy.com/join/login-popup/\")\n",
        "\n",
        "    email = driver.find_element_by_name(\"email\")\n",
        "    password = driver.find_element_by_name(\"password\")\n",
        "\n",
        "    email.send_keys(email_text)\n",
        "    password.send_keys(password_text)\n",
        "\n",
        "    driver.find_element_by_name(\"submit\").click()"
      ],
      "execution_count": null,
      "outputs": []
    },
    {
      "cell_type": "code",
      "metadata": {
        "id": "o8FMa4szOBvZ",
        "colab_type": "code",
        "colab": {}
      },
      "source": [
        "def redeemUdemyCourse(url):\n",
        "\n",
        "    driver.get(url)\n",
        "    print(\"Trying to Enroll for: \" + driver.title)\n",
        "    \n",
        "    #Enroll Now 1\n",
        "    element_present = EC.presence_of_element_located((By.XPATH, \"//button[@data-purpose='buy-this-course-button']\"))\n",
        "    WebDriverWait(driver, 10).until(element_present)\n",
        "\n",
        "    udemyEnroll = driver.find_element_by_xpath(\"//button[@data-purpose='buy-this-course-button']\") #Udemy\n",
        "    udemyEnroll.click()\n",
        "\n",
        "    #Enroll Now 2\n",
        "    element_present = EC.presence_of_element_located((By.XPATH, \"//*[@id=\\\"udemy\\\"]/div[1]/div[2]/div/div/div/div[2]/form/div[2]/div/div[4]/button\"))\n",
        "    WebDriverWait(driver, 10).until(element_present)\n",
        "\n",
        "    udemyEnroll = driver.find_element_by_xpath(\"//*[@id=\\\"udemy\\\"]/div[1]/div[2]/div/div/div/div[2]/form/div[2]/div/div[4]/button\") #Udemy\n",
        "    udemyEnroll.click()"
      ],
      "execution_count": null,
      "outputs": []
    },
    {
      "cell_type": "code",
      "metadata": {
        "id": "hnR8ZQ7lOFJW",
        "colab_type": "code",
        "colab": {}
      },
      "source": [
        "def main_function():\n",
        "\n",
        "    page = 1  #Change the page number here only if necessary, else ignore\n",
        "\n",
        "    loop_run_count = 0\n",
        "\n",
        "    while True:\n",
        "\n",
        "        print(\"Please Wait: Getting the course list from tutorialbar.com...\")\n",
        "        print(\"Page: \"+str(page)+\", Loop run count: \"+str(loop_run_count))\n",
        "\n",
        "        url=\"https://www.tutorialbar.com/all-courses/\"+\"page/\"+str(page)+\"/\"\n",
        "        courses=getTutorialBarLinks(url)\n",
        "        \n",
        "        udemyLinks=[]\n",
        "        linkCounter=0\n",
        "        \n",
        "        for course in courses:\n",
        "            \n",
        "            udemyLinks.append(getUdemyLink(course))\n",
        "            print(\"Received Link \" + str(linkCounter+1) + \": \"+udemyLinks[linkCounter])\n",
        "            linkCounter=linkCounter+1\n",
        "\n",
        "        if loop_run_count == 0:\n",
        "            \n",
        "            udemyLogin(email,password)\n",
        "\n",
        "        for link in udemyLinks:\n",
        "            try:\n",
        "                redeemUdemyCourse(link)\n",
        "            except BaseException as e:\n",
        "                print(\"Unable to enroll for this course either because you have already claimed it or the browser window has been closed!\")\n",
        "\n",
        "        page = page + 1\n",
        "        loop_run_count = loop_run_count + 1\n",
        "        \n",
        "        print(\"Moving on to the next page of the course list on tutorialbar.com\")\n"
      ],
      "execution_count": null,
      "outputs": []
    },
    {
      "cell_type": "code",
      "metadata": {
        "id": "PGQ0P7BxOJi1",
        "colab_type": "code",
        "colab": {}
      },
      "source": [
        "main_function()"
      ],
      "execution_count": null,
      "outputs": []
    }
  ]
}